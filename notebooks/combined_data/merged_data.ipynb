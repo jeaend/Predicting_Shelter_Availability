{
 "cells": [
  {
   "cell_type": "code",
   "execution_count": null,
   "metadata": {},
   "outputs": [],
   "source": [
    "import sys\n",
    "import os\n",
    "module_path = os.path.abspath(os.path.join('../../'))\n",
    "sys.path.insert(1, module_path + \"/utils\")\n",
    "\n",
    "import pandas as pd\n",
    "from data_processing import preprocess_climate_data, preprocess_shelter_data, df_equality"
   ]
  },
  {
   "cell_type": "markdown",
   "metadata": {},
   "source": [
    "#### data retrieval from perviously saved csv's"
   ]
  },
  {
   "cell_type": "code",
   "execution_count": null,
   "metadata": {},
   "outputs": [],
   "source": [
    "# read the CSV files\n",
    "climate_df_csv = pd.read_csv(\"../../data/processed/climate.csv\")\n",
    "shelter_df_csv = pd.read_csv(\"../../data/processed/shelter.csv\")\n",
    "\n",
    "# merge the dataframes based on the 'date' column, left join\n",
    "merged_df_csv = pd.merge(shelter_df_csv, climate_df_csv, on='date', how='left')"
   ]
  },
  {
   "cell_type": "markdown",
   "metadata": {},
   "source": [
    "##### check df"
   ]
  },
  {
   "cell_type": "code",
   "execution_count": null,
   "metadata": {},
   "outputs": [],
   "source": [
    "merged_df_csv.isna().sum().sum()"
   ]
  },
  {
   "cell_type": "code",
   "execution_count": null,
   "metadata": {},
   "outputs": [],
   "source": [
    "merged_df_csv"
   ]
  },
  {
   "cell_type": "code",
   "execution_count": null,
   "metadata": {},
   "outputs": [],
   "source": [
    "# Save the merged dataframe to a new CSV file\n",
    "# merged_df_csv.to_csv(\"../../data/processed/shelter_climate.csv\", index=False)"
   ]
  },
  {
   "cell_type": "markdown",
   "metadata": {},
   "source": [
    "#### alternatively using the functions and merge directly wihtout using previously saved state"
   ]
  },
  {
   "cell_type": "code",
   "execution_count": 29,
   "metadata": {},
   "outputs": [],
   "source": [
    "climate_url = '../../data/raw/climate/climate-toronto2021-Q1-2024.csv'\n",
    "shelter_url = ['../../data/raw/shelter/daily-shelter-overnight-service-occupancy-capacity-2021.csv',\n",
    "        '../../data/raw/shelter/daily-shelter-overnight-service-occupancy-capacity-2022.csv',\n",
    "        '../../data/raw/shelter/daily-shelter-overnight-service-occupancy-capacity-2023.csv',\n",
    "        '../../data/raw/shelter/daily-shelter-overnight-service-occupancy-capacity-Q1:2024.csv']\n",
    "\n",
    "climate_df = preprocess_climate_data(climate_url)\n",
    "shelter_df = preprocess_shelter_data(shelter_url)\n",
    "\n",
    "climate_shelter = pd.merge(shelter_df, climate_df, on='date', how='left')"
   ]
  },
  {
   "cell_type": "markdown",
   "metadata": {},
   "source": [
    "##### check df"
   ]
  },
  {
   "cell_type": "code",
   "execution_count": 33,
   "metadata": {},
   "outputs": [
    {
     "data": {
      "text/plain": [
       "14"
      ]
     },
     "execution_count": 33,
     "metadata": {},
     "output_type": "execute_result"
    }
   ],
   "source": [
    "climate_shelter.isna().sum().sum()\n",
    "climate_shelter.columns == merged_df_csv.columns"
   ]
  },
  {
   "cell_type": "markdown",
   "metadata": {},
   "source": [
    "#### save to csv"
   ]
  },
  {
   "cell_type": "code",
   "execution_count": null,
   "metadata": {},
   "outputs": [],
   "source": [
    "# Save the merged dataframe to a new CSV file\n",
    "climate_shelter.to_csv(\"../../data/processed/shelter_climate_function.csv\", index=False)"
   ]
  }
 ],
 "metadata": {
  "kernelspec": {
   "display_name": "base",
   "language": "python",
   "name": "python3"
  },
  "language_info": {
   "codemirror_mode": {
    "name": "ipython",
    "version": 3
   },
   "file_extension": ".py",
   "mimetype": "text/x-python",
   "name": "python",
   "nbconvert_exporter": "python",
   "pygments_lexer": "ipython3",
   "version": "3.11.7"
  }
 },
 "nbformat": 4,
 "nbformat_minor": 2
}
